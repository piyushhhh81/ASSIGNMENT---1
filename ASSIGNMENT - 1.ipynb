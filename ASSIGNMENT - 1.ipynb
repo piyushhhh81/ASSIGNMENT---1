{
 "cells": [
  {
   "cell_type": "markdown",
   "id": "1a60e6f5-5963-4d56-9872-9881e79942cc",
   "metadata": {},
   "source": [
    "#### PYTHON PRACTICE QUESTION"
   ]
  },
  {
   "cell_type": "markdown",
   "id": "e845b694-12d1-4a3d-af40-56b45fbf98c1",
   "metadata": {},
   "source": [
    "#### 1.STRING (05QUE)"
   ]
  },
  {
   "cell_type": "markdown",
   "id": "28f3668c-18e5-46dc-891f-eb6beb460338",
   "metadata": {},
   "source": [
    "#### 1.Check if a given string is palindrome"
   ]
  },
  {
   "cell_type": "code",
   "execution_count": 16,
   "id": "2b17ab97-9ee4-483a-851d-7c795457f721",
   "metadata": {},
   "outputs": [
    {
     "name": "stdin",
     "output_type": "stream",
     "text": [
      "enter a  string:  level\n"
     ]
    },
    {
     "name": "stdout",
     "output_type": "stream",
     "text": [
      "this string is palindrome.\n"
     ]
    }
   ],
   "source": [
    "s = input(\"enter a  string: \")\n",
    "s = s.lower()\n",
    "rev = s[::-1]\n",
    "if s ==rev:\n",
    "    print(\"this string is palindrome.\")\n",
    "else: \n",
    "    print(\"this string is not palindrome.\")\n",
    "    \n"
   ]
  },
  {
   "cell_type": "markdown",
   "id": "e2eb69aa-0312-4d1e-9c1a-66aad99a4d1a",
   "metadata": {},
   "source": [
    "#### 2. Count the number of vowels in a string and store the result in a dictionary.\n"
   ]
  },
  {
   "cell_type": "code",
   "execution_count": 24,
   "id": "8b7da4b3-e60a-4935-b7c5-026d196cbf16",
   "metadata": {},
   "outputs": [
    {
     "name": "stdout",
     "output_type": "stream",
     "text": [
      "{'a': 0, 'e': 0, 'i': 1, 'o': 0, 'u': 1}\n"
     ]
    }
   ],
   "source": [
    "s = \"piyush\"  \n",
    "vowels = \"aeiou\" \n",
    "count ={v:s.count(v) for v in vowels}\n",
    "print (count)"
   ]
  },
  {
   "cell_type": "markdown",
   "id": "aa8de0da-12c6-403a-935f-a4d615e8fd89",
   "metadata": {},
   "source": [
    "#### 3. Convert the first letter of each word in a string to uppercase (title case manually).\n"
   ]
  },
  {
   "cell_type": "code",
   "execution_count": 25,
   "id": "7298a1c0-a96b-4880-882e-09a00ed291e9",
   "metadata": {},
   "outputs": [
    {
     "name": "stdin",
     "output_type": "stream",
     "text": [
      "Sentence: hello world python\n"
     ]
    },
    {
     "name": "stdout",
     "output_type": "stream",
     "text": [
      "Hello World Python\n"
     ]
    }
   ],
   "source": [
    "w = input(\"Sentence:\").uppercase()\n",
    "print(w)\n"
   ]
  },
  {
   "cell_type": "markdown",
   "id": "37f8a23d-c95e-45e2-b83d-abed2800090b",
   "metadata": {},
   "source": [
    "#### 4. Find the most frequently occurring character in a string.\n"
   ]
  },
  {
   "cell_type": "code",
   "execution_count": 31,
   "id": "9b434d37-37b8-45b6-b441-7eff92a4f0fc",
   "metadata": {},
   "outputs": [
    {
     "name": "stdout",
     "output_type": "stream",
     "text": [
      "l\n"
     ]
    }
   ],
   "source": [
    "v1 = \"level\"\n",
    "freq = {ch:s.count(ch)for ch in v1}\n",
    "print(max(freq,key = freq.get))"
   ]
  },
  {
   "cell_type": "markdown",
   "id": "61f6a0a7-1782-413b-902c-e6911bf95b0d",
   "metadata": {},
   "source": [
    "#### 5. Count digits, alphabets, and special characters separately in a string.\n"
   ]
  },
  {
   "cell_type": "code",
   "execution_count": 35,
   "id": "72349caa-303f-4d8d-a471-0500f7806495",
   "metadata": {},
   "outputs": [
    {
     "name": "stdin",
     "output_type": "stream",
     "text": [
      "Enter a string:  piyushyeole8081@.com\n"
     ]
    },
    {
     "name": "stdout",
     "output_type": "stream",
     "text": [
      "Alphabets: 14\n",
      "Digits: 4\n",
      "Special characters: 2\n"
     ]
    }
   ],
   "source": [
    "v  = input(\"Enter a string: \")\n",
    "\n",
    "alphabets = 0\n",
    "digits = 0\n",
    "special = 0\n",
    "\n",
    "for ch in v:\n",
    "    if ch.isalpha():\n",
    "        alphabets += 1\n",
    "    elif ch.isdigit():\n",
    "        digits += 1\n",
    "    else:\n",
    "        special +=1\n",
    "\n",
    "print(\"Alphabets:\", alphabets)\n",
    "print(\"Digits:\", digits)\n",
    "print(\"Special characters:\", special)\n"
   ]
  },
  {
   "cell_type": "markdown",
   "id": "6f969af6-f8a5-429c-9c71-43222008ead5",
   "metadata": {},
   "source": [
    "#### 2.LIST (05QUE)"
   ]
  },
  {
   "cell_type": "markdown",
   "id": "2a167c5d-09ec-4df5-992d-5e6b39bfe24a",
   "metadata": {},
   "source": [
    "#### 6. Remove duplicate elements from a list without using set().\n"
   ]
  },
  {
   "cell_type": "code",
   "execution_count": 37,
   "id": "beab3d84-c563-4dfd-af85-75fcae3f4e56",
   "metadata": {},
   "outputs": [
    {
     "name": "stdout",
     "output_type": "stream",
     "text": [
      "[1, 2, 3, 4, 5, 6, 7, 8]\n"
     ]
    }
   ],
   "source": [
    "list = [1,2,2,3,3,3,4,4,4,5,5,6,7,8,8]\n",
    "my_list=[]\n",
    "for i in list:\n",
    "    if i not in my_list:\n",
    "        my_list.append(i)\n",
    "print(my_list)        \n"
   ]
  },
  {
   "cell_type": "markdown",
   "id": "fbbc593b-3f1c-4b85-9d6a-459b160395cb",
   "metadata": {},
   "source": [
    "#### 7. Reverse a list without using built-in functions.\n"
   ]
  },
  {
   "cell_type": "code",
   "execution_count": 42,
   "id": "79392ba7-dc4d-4b9c-a969-8c45c36de400",
   "metadata": {},
   "outputs": [
    {
     "name": "stdout",
     "output_type": "stream",
     "text": [
      "[9, 8, 7, 6, 5, 4, 3, 2, 1, 0]\n"
     ]
    }
   ],
   "source": [
    "list =[0,1,2,3,4,5,6,7,8,9]\n",
    "list = list[::-1]\n",
    "print(list)"
   ]
  },
  {
   "cell_type": "markdown",
   "id": "31022dca-4217-4ea1-a843-75969835c41f",
   "metadata": {},
   "source": [
    "#### 8. Find the 2nd largest and 2nd smallest element in a list.\n"
   ]
  },
  {
   "cell_type": "code",
   "execution_count": 50,
   "id": "f4e39526-d4a4-4b5e-b149-b07320cd67f5",
   "metadata": {},
   "outputs": [
    {
     "name": "stdout",
     "output_type": "stream",
     "text": [
      "2nd smallest: 34 2nd largest: 12\n"
     ]
    }
   ],
   "source": [
    "numbers =[22,34,65,78,99,12,55]\n",
    "second_smallest = numbers [1]\n",
    "second_largest = numbers [-2]\n",
    "\n",
    "print(\"2nd smallest:\", second_smallest ,\"2nd largest:\", second_largest)\n"
   ]
  },
  {
   "cell_type": "markdown",
   "id": "909e2e1a-65ac-4d63-af8f-0314c63dbe72",
   "metadata": {},
   "source": [
    "#### 9. Store the square of each element of a list into a new list (using list comprehension).\n"
   ]
  },
  {
   "cell_type": "code",
   "execution_count": 53,
   "id": "baa72e6b-d00a-45de-9938-56eabad72cb2",
   "metadata": {},
   "outputs": [
    {
     "data": {
      "text/plain": [
       "[1, 4, 9, 16, 25]"
      ]
     },
     "execution_count": 53,
     "metadata": {},
     "output_type": "execute_result"
    }
   ],
   "source": [
    "numbers = [1,2,3,4,5] \n",
    "[i**2 for i in numbers]"
   ]
  },
  {
   "cell_type": "markdown",
   "id": "bd028342-06b3-4c5b-a8f7-249d71a04119",
   "metadata": {},
   "source": [
    "#### 10. Flatten a nested list into a single list.\n"
   ]
  },
  {
   "cell_type": "code",
   "execution_count": 54,
   "id": "3f7063d1-bd02-4f37-9726-74267367af9d",
   "metadata": {},
   "outputs": [
    {
     "data": {
      "text/plain": [
       "[1, 2, 3, 4, 5, 6]"
      ]
     },
     "execution_count": 54,
     "metadata": {},
     "output_type": "execute_result"
    }
   ],
   "source": [
    "nested_list = [[1,2],[3,4],[5,6]]\n",
    "[x for sub in nested_list for x in sub]\n",
    "\n"
   ]
  },
  {
   "cell_type": "markdown",
   "id": "3dc2bb48-1bef-4f27-9f23-98d7c692b739",
   "metadata": {},
   "source": [
    "### 3.TUPLE (05QUE)\n"
   ]
  },
  {
   "cell_type": "markdown",
   "id": "93e27c9d-137e-4089-a160-ad3850a8ffad",
   "metadata": {},
   "source": [
    "#### 11. Reverse a tuple without using [::-1].\n"
   ]
  },
  {
   "cell_type": "code",
   "execution_count": 60,
   "id": "23735c30-00de-454e-a19c-21fdd4c25d05",
   "metadata": {},
   "outputs": [
    {
     "name": "stdout",
     "output_type": "stream",
     "text": [
      "(5, 4, 3, 2, 1)\n"
     ]
    }
   ],
   "source": [
    "t =(1,2,3,4,5) #1st way\n",
    "reversed_tuple = tuple(reversed(t))\n",
    "print(reversed_tuple)"
   ]
  },
  {
   "cell_type": "code",
   "execution_count": 66,
   "id": "0306df5b-a737-4ca1-a3e9-45db3b60bef5",
   "metadata": {},
   "outputs": [],
   "source": [
    "t1 = [1,4,55,6,777] #2nd way\n",
    "t1.reverse()\n"
   ]
  },
  {
   "cell_type": "code",
   "execution_count": 67,
   "id": "3c9df525-bf8b-41b8-b52e-968fcc700f49",
   "metadata": {},
   "outputs": [
    {
     "data": {
      "text/plain": [
       "[777, 6, 55, 4, 1]"
      ]
     },
     "execution_count": 67,
     "metadata": {},
     "output_type": "execute_result"
    }
   ],
   "source": [
    "t1"
   ]
  },
  {
   "cell_type": "markdown",
   "id": "5f31fe63-3e3f-4240-b84b-47f6add6d5c1",
   "metadata": {},
   "source": [
    "#### 12. Extract unique elements from a tuple and store them in a new list.\n"
   ]
  },
  {
   "cell_type": "code",
   "execution_count": 80,
   "id": "6c6aa230-0559-4b79-88bf-229fb33de910",
   "metadata": {},
   "outputs": [
    {
     "name": "stdout",
     "output_type": "stream",
     "text": [
      "original tuple: (1, 2, 3, 3, 1, 2, 4, 6, 7, 8) unique element list: [1, 2, 3, 4, 6, 7, 8]\n"
     ]
    }
   ],
   "source": [
    "t2 = (1,2,3,3,1,2,4,6,7,8)\n",
    "unique = []\n",
    "for i in t2:\n",
    "    if i not in unique:\n",
    "        unique.append(i)\n",
    "        \n",
    "print(\"original tuple:\",t2  ,\"unique element list:\", unique)        \n"
   ]
  },
  {
   "cell_type": "markdown",
   "id": "c147f278-fbb8-4b3d-9308-fe2aa5c24adc",
   "metadata": {},
   "source": [
    "#### 13. Concatenate two tuples and sort them.\n"
   ]
  },
  {
   "cell_type": "code",
   "execution_count": 81,
   "id": "9ad004bd-f416-4c69-b159-484bc41df3ce",
   "metadata": {},
   "outputs": [
    {
     "name": "stdout",
     "output_type": "stream",
     "text": [
      "(1, 2, 3, 4, 5, 6)\n"
     ]
    }
   ],
   "source": [
    "t1 = (1,2,3)\n",
    "t2 = (4,5,6)\n",
    "t3 = t1 + t2\n",
    "sorted_tuple = tuple(sorted(t3))\n",
    "print(sorted_tuple)"
   ]
  },
  {
   "cell_type": "markdown",
   "id": "f3796c8d-a65e-4839-8084-3c6df85bf2ae",
   "metadata": {},
   "source": [
    "#### 14. Count the frequency of an element in a tuple without using count().\n"
   ]
  },
  {
   "cell_type": "code",
   "execution_count": 90,
   "id": "43d0e589-8cec-4d1f-9782-6a77f06ed580",
   "metadata": {},
   "outputs": [
    {
     "name": "stdout",
     "output_type": "stream",
     "text": [
      "frequency element 2\n"
     ]
    }
   ],
   "source": [
    "t = (1,2,3,4,5,6,4,7,2,9)\n",
    "element = 2\n",
    "freq = 0\n",
    "\n",
    "for i in t:\n",
    "    if i == element:\n",
    "        freq += 1\n",
    "print (\"frequency element\",freq)        "
   ]
  },
  {
   "cell_type": "code",
   "execution_count": 1,
   "id": "fa128f26-330d-46be-b3e9-203b3df7db0f",
   "metadata": {},
   "outputs": [
    {
     "name": "stdout",
     "output_type": "stream",
     "text": [
      "1\n"
     ]
    }
   ],
   "source": [
    "t = (1,2,3,4,5,6)  #2nd way\n",
    "elem = 2\n",
    "count=sum(1 for x in t if x==elem)\n",
    "print(count)"
   ]
  },
  {
   "cell_type": "markdown",
   "id": "e166ab44-17c7-4df5-8be1-ca3601018dd8",
   "metadata": {},
   "source": [
    "#### 15. From a tuple of numbers, create two tuples: one with even numbers and one with odd numbers\n"
   ]
  },
  {
   "cell_type": "code",
   "execution_count": 103,
   "id": "aba2615a-82fa-4355-91ad-28ea24693bca",
   "metadata": {},
   "outputs": [
    {
     "name": "stdout",
     "output_type": "stream",
     "text": [
      "even number tuple [10, 20, 28, 30, 40]\n",
      "odd number tuple [5, 15, 25, 45]\n"
     ]
    }
   ],
   "source": [
    "t = (5, 10, 15, 20, 25, 28, 30, 40, 45)\n",
    "\n",
    "even_list =[]\n",
    "odd_list =[]\n",
    "\n",
    "for num in t:\n",
    "    if num % 2 ==0:\n",
    "        even_list.append(num)\n",
    "    else:\n",
    "        odd_list.append(num) \n",
    "\n",
    "print(\"even number tuple\", even_list)\n",
    "print(\"odd number tuple\", odd_list)    "
   ]
  },
  {
   "cell_type": "code",
   "execution_count": 2,
   "id": "f062890f-ff2e-42dc-b300-909f70c1272b",
   "metadata": {},
   "outputs": [
    {
     "name": "stdout",
     "output_type": "stream",
     "text": [
      "(10, 20, 28, 30, 40)\n",
      "(20, 28, 40)\n"
     ]
    }
   ],
   "source": [
    "t = (5, 10, 15, 20, 25, 28, 30, 40, 45)  # 2nd Way\n",
    "\n",
    "\n",
    "even =tuple(i for i in t if i%2== 0)\n",
    "odd = tuple(i for i in t if i%4== 0)\n",
    "print(even)\n",
    "print(odd)"
   ]
  },
  {
   "cell_type": "markdown",
   "id": "1b3bd944-317a-4c9b-8f8f-6dfb7997501d",
   "metadata": {},
   "source": [
    "### 4.SET  (05QUE)\n"
   ]
  },
  {
   "cell_type": "markdown",
   "id": "0d1680c8-cccf-407e-a3fa-3d97323b8a19",
   "metadata": {},
   "source": [
    "#### 16. Perform union, intersection, and difference of two sets without using built-in operators.\n"
   ]
  },
  {
   "cell_type": "code",
   "execution_count": 3,
   "id": "232c224d-b1d0-4b6a-8391-b6287ef00c1e",
   "metadata": {},
   "outputs": [
    {
     "name": "stdout",
     "output_type": "stream",
     "text": [
      "Union: {1, 2, 3, 4, 5}\n"
     ]
    }
   ],
   "source": [
    "# union\n",
    "A = {1, 2, 3}\n",
    "B = {3, 4, 5}\n",
    "\n",
    "set = A|B\n",
    "print(\"Union:\", set)"
   ]
  },
  {
   "cell_type": "code",
   "execution_count": 13,
   "id": "515d8aa9-6000-4b00-b359-2449ab6f7cfa",
   "metadata": {},
   "outputs": [
    {
     "name": "stdout",
     "output_type": "stream",
     "text": [
      "Intersection: {3, 4} {3, 4}\n"
     ]
    }
   ],
   "source": [
    "# intersection\n",
    "A = {1,2,3,4}\n",
    "B = {3,4,5,6}\n",
    "intersection_set = A & B\n",
    "print(\"Intersection:\",intersection_set , A & B)\n"
   ]
  },
  {
   "cell_type": "code",
   "execution_count": 7,
   "id": "821eb4ac-7bbe-47cf-89fd-5fe02710272e",
   "metadata": {},
   "outputs": [
    {
     "name": "stdout",
     "output_type": "stream",
     "text": [
      "differnce {4, 5} {1, 2}\n",
      "differnce {4, 5} {4, 5}\n"
     ]
    }
   ],
   "source": [
    "# Differnce\n",
    "A = {1, 2, 3}\n",
    "B = {3, 4, 5}\n",
    "\n",
    "differnce_set = A - B\n",
    "differnce_set = B - A\n",
    "print(\"differnce\",differnce_set, A - B)\n",
    "print(\"differnce\",differnce_set, B - A )"
   ]
  },
  {
   "cell_type": "markdown",
   "id": "fcd203f8-a8f5-426b-bdcf-27954194e6e3",
   "metadata": {},
   "source": [
    "#### 17. Remove a random element from a set (without using pop()).\n"
   ]
  },
  {
   "cell_type": "code",
   "execution_count": 17,
   "id": "8638a99f-fcea-4cf1-b6b6-62c28857b8c5",
   "metadata": {},
   "outputs": [
    {
     "name": "stdout",
     "output_type": "stream",
     "text": [
      "random_element removed: 50\n",
      "updated set: {20, 40, 10, 30}\n"
     ]
    }
   ],
   "source": [
    "import random \n",
    "A = {10,20,30,40,50}\n",
    "\n",
    "A_list = list(A)  #set convert to list\n",
    "random_element = random.choice(A_list)\n",
    "A.remove(random_element)\n",
    "print(\"random_element removed:\",random_element)\n",
    "print(\"updated set:\",A)"
   ]
  },
  {
   "cell_type": "code",
   "execution_count": 4,
   "id": "be4ce322-9209-408e-ac38-8e7e59ba428f",
   "metadata": {},
   "outputs": [],
   "source": [
    "s = {1,2,3,4,5}\n",
    "s.remove(3)\n"
   ]
  },
  {
   "cell_type": "code",
   "execution_count": 6,
   "id": "12d32e86-2e15-4be0-9959-1ee12d13cbec",
   "metadata": {},
   "outputs": [
    {
     "data": {
      "text/plain": [
       "{1, 2, 4, 5}"
      ]
     },
     "execution_count": 6,
     "metadata": {},
     "output_type": "execute_result"
    }
   ],
   "source": [
    "s"
   ]
  },
  {
   "cell_type": "markdown",
   "id": "c2441f3f-34ab-4748-98c1-29f178d02d20",
   "metadata": {},
   "source": [
    "#### 18.Convert a list into a set and check if duplicates are removed.\n",
    "\n"
   ]
  },
  {
   "cell_type": "code",
   "execution_count": 10,
   "id": "c5f825f4-7e1c-447e-b3ef-7e60ea93ed9f",
   "metadata": {},
   "outputs": [
    {
     "name": "stdout",
     "output_type": "stream",
     "text": [
      "Original list: [10, 30, 40, 20, 40, 20]\n",
      "Coverted Set: {40, 10, 20, 30}\n"
     ]
    }
   ],
   "source": [
    "list = [10,30,40,20,40,20]\n",
    "\n",
    "#Covert list into set:\n",
    "unique_set = set(list)  \n",
    "print(\"Original list:\",list)\n",
    "print(\"Coverted Set:\" ,unique_set)"
   ]
  },
  {
   "cell_type": "markdown",
   "id": "4bf137da-ff48-4c47-80a9-5e4c8bd26f53",
   "metadata": {},
   "source": [
    "#### 19. Check if two sets are disjoint.\n"
   ]
  },
  {
   "cell_type": "code",
   "execution_count": 38,
   "id": "4563fe4a-895a-4508-b45b-6029ddd6a85f",
   "metadata": {},
   "outputs": [
    {
     "data": {
      "text/plain": [
       "True"
      ]
     },
     "execution_count": 38,
     "metadata": {},
     "output_type": "execute_result"
    }
   ],
   "source": [
    "a = {1 ,2, 3}\n",
    "b= {5, 6 ,7}\n",
    "a.isdisjoint(b)"
   ]
  },
  {
   "cell_type": "markdown",
   "id": "8d2dc565-42df-4826-82d9-4b222fc06108",
   "metadata": {},
   "source": [
    "#### 20. Find the sum of all elements in a set.\n"
   ]
  },
  {
   "cell_type": "code",
   "execution_count": 39,
   "id": "0a0d3b0d-6036-4a41-a83a-9c39ab1d3b8d",
   "metadata": {},
   "outputs": [
    {
     "data": {
      "text/plain": [
       "2123"
      ]
     },
     "execution_count": 39,
     "metadata": {},
     "output_type": "execute_result"
    }
   ],
   "source": [
    "s1 = {1567,345,45,67,99}\n",
    "sum(s1)\n"
   ]
  },
  {
   "cell_type": "markdown",
   "id": "3eea17e7-f045-4b56-b801-2a6807b8989b",
   "metadata": {},
   "source": [
    "#### 5. DICTIONARY (05 QUE)\n"
   ]
  },
  {
   "cell_type": "markdown",
   "id": "ffd187e9-58e9-4362-86db-eaba0ef5828a",
   "metadata": {},
   "source": [
    "#### 21. Create a dictionary and print keys in ascending order.\n"
   ]
  },
  {
   "cell_type": "code",
   "execution_count": 40,
   "id": "ad068c26-e7e5-48b0-8e00-9c73e4d104c9",
   "metadata": {},
   "outputs": [
    {
     "name": "stdout",
     "output_type": "stream",
     "text": [
      "1\n",
      "2\n",
      "3\n",
      "4\n"
     ]
    }
   ],
   "source": [
    "d = {3: \"apple\", 1: \"banana\", 4: \"cherry\", 2: \"mango\"}\n",
    "# Print dictionary keys in ascending order\n",
    "for key in sorted(d.keys()):\n",
    "    print(key)\n"
   ]
  },
  {
   "cell_type": "markdown",
   "id": "7713b525-debd-42a9-8535-27ebd64f54f8",
   "metadata": {},
   "source": [
    "#### 22. Add a new key to a dictionary with value equal to the sum of existing values.\n"
   ]
  },
  {
   "cell_type": "code",
   "execution_count": 45,
   "id": "713c15cc-4070-40d6-a806-5ea825a7e1f2",
   "metadata": {},
   "outputs": [
    {
     "name": "stdout",
     "output_type": "stream",
     "text": [
      "100\n"
     ]
    }
   ],
   "source": [
    "d = {\"a\": 10, \"b\": 60, \"c\": 30}\n",
    "d_total = sum (d.values())\n",
    "\n",
    "print(d_total)\n"
   ]
  },
  {
   "cell_type": "markdown",
   "id": "ada074b8-0180-475f-a213-2af6f8380989",
   "metadata": {},
   "source": [
    "#### 23. Merge two dictionaries into one.\n"
   ]
  },
  {
   "cell_type": "code",
   "execution_count": 46,
   "id": "3b3b2303-0672-4df9-929f-892f0e579b25",
   "metadata": {},
   "outputs": [
    {
     "name": "stdout",
     "output_type": "stream",
     "text": [
      "{'a': 1, 'b': 2, 'c': 3, 'd': 4}\n"
     ]
    }
   ],
   "source": [
    "dict1 = {\"a\": 1, \"b\": 2}\n",
    "dict2 = {\"c\": 3, \"d\": 4}\n",
    "dict1.update(dict2)\n",
    "print(dict1)"
   ]
  },
  {
   "cell_type": "code",
   "execution_count": 47,
   "id": "92f0ad0d-012d-4265-aea4-3b6c56e78c60",
   "metadata": {},
   "outputs": [
    {
     "name": "stdout",
     "output_type": "stream",
     "text": [
      "{'c': 3, 'd': 4, 'a': 1, 'b': 2}\n"
     ]
    }
   ],
   "source": [
    "dict1 = {\"a\": 1, \"b\": 2}\n",
    "dict2 = {\"c\": 3, \"d\": 4}\n",
    "dict2.update(dict1)\n",
    "print(dict2)"
   ]
  },
  {
   "cell_type": "markdown",
   "id": "9284f5ff-3d09-4b1b-b97b-5305d418823c",
   "metadata": {},
   "source": [
    "#### 24. Find the key with the largest value in a dictionary.\n"
   ]
  },
  {
   "cell_type": "code",
   "execution_count": 13,
   "id": "9faf303c-15d2-4fbe-b3df-b001683d2bb7",
   "metadata": {},
   "outputs": [
    {
     "name": "stdout",
     "output_type": "stream",
     "text": [
      "c\n"
     ]
    }
   ],
   "source": [
    "d = {\"a\":10 , \"b\":20,\"c\":30}  # 1nd way\n",
    "print(max(d,key = d.get))"
   ]
  },
  {
   "cell_type": "markdown",
   "id": "4db67dfd-cb54-4493-b497-793c9d9e9559",
   "metadata": {},
   "source": [
    "#### 25. Store the frequency of characters of a string in a dictionary.\n"
   ]
  },
  {
   "cell_type": "code",
   "execution_count": 1,
   "id": "c4496023-a874-46c5-92a3-3494c7335a08",
   "metadata": {},
   "outputs": [
    {
     "name": "stdout",
     "output_type": "stream",
     "text": [
      "{'s': 2, 'm': 1, 'a': 1, 't': 3, 'n': 1, 'e': 2}\n"
     ]
    }
   ],
   "source": [
    "s = \"statements\"\n",
    "frq = {ch: s.count(ch) for ch in set(s)}\n",
    "print (frq)"
   ]
  },
  {
   "cell_type": "markdown",
   "id": "e83cc3f4-fe7f-470a-b756-efb3bd4902a3",
   "metadata": {},
   "source": [
    "#### 6. CONDITIONAL STATEMENTS (05QUE)\n",
    "\n"
   ]
  },
  {
   "cell_type": "markdown",
   "id": "632c9e45-3d07-4ea2-a662-ce900be51302",
   "metadata": {},
   "source": [
    "#### 26. Take age as input and check if the person is eligible to vote or not.\n"
   ]
  },
  {
   "cell_type": "code",
   "execution_count": 44,
   "id": "39e826a2-c699-4f45-8ed6-ef9bca7fc8cb",
   "metadata": {},
   "outputs": [],
   "source": [
    "def Eligibility():\n",
    "    age = int(input(\"Enter your age: \"))\n",
    "    if age >= 18:\n",
    "        print(\"You are eligible to vote.\")\n",
    "    else:\n",
    "        print(\"You are not eligible to vote.\")\n"
   ]
  },
  {
   "cell_type": "code",
   "execution_count": 45,
   "id": "45d6168f-cc01-4280-a19e-4ccd22d5b648",
   "metadata": {},
   "outputs": [
    {
     "name": "stdin",
     "output_type": "stream",
     "text": [
      "Enter your age:  25\n"
     ]
    },
    {
     "name": "stdout",
     "output_type": "stream",
     "text": [
      "You are eligible to vote.\n"
     ]
    }
   ],
   "source": [
    "Eligibility()"
   ]
  },
  {
   "cell_type": "markdown",
   "id": "c9ad757d-ae42-466b-9759-b214ef6440fe",
   "metadata": {},
   "source": [
    "#### 27. Find the largest among three numbers (using nested if).\n"
   ]
  },
  {
   "cell_type": "code",
   "execution_count": 15,
   "id": "b2852080-aba4-4a92-8513-9581f0390448",
   "metadata": {},
   "outputs": [
    {
     "name": "stdin",
     "output_type": "stream",
     "text": [
      "Enter first number:  56\n",
      "Enter second number:  48\n",
      "Enter third number:  79\n"
     ]
    },
    {
     "name": "stdout",
     "output_type": "stream",
     "text": [
      "Largest number is: 79\n"
     ]
    }
   ],
   "source": [
    "a = int(input(\"Enter first number: \"))\n",
    "b = int(input(\"Enter second number: \"))\n",
    "c = int(input(\"Enter third number: \"))\n",
    "\n",
    "if a >= b:\n",
    "    if a >= c:\n",
    "        print(\"Largest number is:\", a)\n",
    "    else:\n",
    "        print(\"Largest number is:\", c)\n",
    "else:\n",
    "    if b >= c:\n",
    "        print(\"Largest number is:\", b)\n",
    "    else:\n",
    "        print(\"Largest number is:\", c)\n"
   ]
  },
  {
   "cell_type": "code",
   "execution_count": 2,
   "id": "a7df46ce-437d-4244-b75b-98e7b9d528b2",
   "metadata": {},
   "outputs": [
    {
     "name": "stdout",
     "output_type": "stream",
     "text": [
      "c is largest all over three variable\n"
     ]
    }
   ],
   "source": [
    "a ,b, c, = 10, 20, 30\n",
    "\n",
    "if a >=b:\n",
    "   print(\"this condtion is false\") \n",
    "   if C >= b:\n",
    "       print (\"this condtion is true\")\n",
    "   else:\n",
    "       print(\"30 is the largest number\")\n",
    "else:\n",
    "    print(\"c is largest all over three variable\")\n",
    "       "
   ]
  },
  {
   "cell_type": "code",
   "execution_count": 16,
   "id": "df2ecef3-8fe7-463b-bc8c-317ef322e20b",
   "metadata": {},
   "outputs": [
    {
     "name": "stdout",
     "output_type": "stream",
     "text": [
      "largest number is: 30\n"
     ]
    }
   ],
   "source": [
    "a ,b, c, = 10, 20, 30\n",
    "print(\"largest number is:\", max(a,b,c))"
   ]
  },
  {
   "cell_type": "code",
   "execution_count": 17,
   "id": "7cf66be2-0253-43d7-8773-2702b578c627",
   "metadata": {},
   "outputs": [
    {
     "name": "stdout",
     "output_type": "stream",
     "text": [
      "Largest number is: 30\n"
     ]
    }
   ],
   "source": [
    "a ,b, c, = 10, 20, 30\n",
    "largest = max(a, b, c)   \n",
    "print(\"Largest number is:\", largest)\n"
   ]
  },
  {
   "cell_type": "markdown",
   "id": "05864f67-3f77-48b6-9e0c-3fb4fb7218f7",
   "metadata": {},
   "source": [
    "#### 28. Check if a given number is prime or not.\n"
   ]
  },
  {
   "cell_type": "code",
   "execution_count": 29,
   "id": "bae3d2e2-8a20-4711-9a73-190d1b601534",
   "metadata": {},
   "outputs": [
    {
     "name": "stdin",
     "output_type": "stream",
     "text": [
      "enter a number  1\n"
     ]
    },
    {
     "name": "stdout",
     "output_type": "stream",
     "text": [
      "Not a prime number\n"
     ]
    }
   ],
   "source": [
    "n = int(input(\"enter a number \"))\n",
    "if n <= 1:\n",
    "    print(\"Not a prime number\")\n",
    "elif n==2  or n==3:\n",
    "    print(\"It is a prime number\")\n",
    "else:\n",
    "    for i in range(2,n):  \n",
    "        if n % i == 0 :\n",
    "            print(\"Not a prime number\")\n",
    "            break\n",
    "    else:\n",
    "        print(\"It is a prime number\")\n"
   ]
  },
  {
   "cell_type": "markdown",
   "id": "28b0079d-6368-4a7a-8380-5f0a993c5a9b",
   "metadata": {},
   "source": [
    "#### 29. Assign grade (A, B, C, Fail) based on marks input.\n"
   ]
  },
  {
   "cell_type": "code",
   "execution_count": null,
   "id": "7dd7a635-e14a-4c36-9fb0-0b86d2edc2ed",
   "metadata": {},
   "outputs": [],
   "source": [
    "def assign_grade():\n",
    "    marks = int(input(\"Enter your marks: \"))\n",
    "\n",
    "if marks >= 90:\n",
    "    print(\"Grade: A\")\n",
    "elif marks >= 75:\n",
    "    print(\"Grade: B\")\n",
    "elif marks >= 50:\n",
    "    print(\"Grade: C\")\n",
    "else:\n",
    "    print(\"Grade: Fail\")\n",
    "    \n"
   ]
  },
  {
   "cell_type": "code",
   "execution_count": 38,
   "id": "a71b5291-3344-4522-a492-746006011708",
   "metadata": {},
   "outputs": [
    {
     "name": "stdin",
     "output_type": "stream",
     "text": [
      "Enter your marks:  85\n"
     ]
    }
   ],
   "source": [
    "assign_grade()"
   ]
  },
  {
   "cell_type": "markdown",
   "id": "2d73583a-c112-4a76-b814-b1a732af71f7",
   "metadata": {},
   "source": [
    "#### 30. Check if a number is positive, negative, or zero.\n"
   ]
  },
  {
   "cell_type": "code",
   "execution_count": 41,
   "id": "1db10942-adc9-46c2-9476-dff082a437f0",
   "metadata": {},
   "outputs": [],
   "source": [
    "def check_number():\n",
    "    num = int(input(\"Enter a number: \"))\n",
    "    if num > 0:\n",
    "        print(\"The number is Positive.\")\n",
    "    elif num < 0:\n",
    "        print(\"The number is Negative.\")\n",
    "    else:\n",
    "        print(\"The number is Zero.\")\n"
   ]
  },
  {
   "cell_type": "code",
   "execution_count": 43,
   "id": "15c82603-7a1d-41d2-9a00-707a2cc3f117",
   "metadata": {},
   "outputs": [
    {
     "name": "stdin",
     "output_type": "stream",
     "text": [
      "Enter a number:  78\n"
     ]
    },
    {
     "name": "stdout",
     "output_type": "stream",
     "text": [
      "The number is Positive.\n"
     ]
    }
   ],
   "source": [
    "check_number()"
   ]
  },
  {
   "cell_type": "markdown",
   "id": "8bc410c4-aa0d-4dc7-a440-60d829c61341",
   "metadata": {},
   "source": [
    "#### 7. LOOPS - FOR & WHILE (05 QUE)"
   ]
  },
  {
   "cell_type": "markdown",
   "id": "e419391b-586d-42d1-9cd3-3d192349888f",
   "metadata": {},
   "source": [
    "#### 31. Print the first 10 numbers of the Fibonacci series using for loop.\n"
   ]
  },
  {
   "cell_type": "code",
   "execution_count": 48,
   "id": "ea301f28-f8a4-4e4a-88a8-e9315c405337",
   "metadata": {},
   "outputs": [
    {
     "name": "stdout",
     "output_type": "stream",
     "text": [
      "0 1 1 2 3 5 8 13 21 34 "
     ]
    }
   ],
   "source": [
    "a,b = 0,1\n",
    "for i in range(10):\n",
    "    print(a , end= \" \")\n",
    "    a ,b = b, a+b"
   ]
  },
  {
   "cell_type": "markdown",
   "id": "6ada4918-0a8d-4b15-befd-bdfadf008e15",
   "metadata": {},
   "source": [
    "#### 32. Find the factorial of a number using while loop.\n"
   ]
  },
  {
   "cell_type": "code",
   "execution_count": 2,
   "id": "fe25f4f1-aaf5-4c0f-b73b-890b6b17280b",
   "metadata": {},
   "outputs": [
    {
     "name": "stdout",
     "output_type": "stream",
     "text": [
      "\n",
      "Factorial: 80\n"
     ]
    }
   ],
   "source": [
    "# 1st way\n",
    "n = 10\n",
    "fact = 8\n",
    "while n > 0:\n",
    "    fact *= n \n",
    "    n = -1\n",
    "print(\"\\nFactorial:\",fact)    "
   ]
  },
  {
   "cell_type": "code",
   "execution_count": 12,
   "id": "e96ad8dd-8a4f-41a6-b2ae-43ae50ec9a87",
   "metadata": {},
   "outputs": [
    {
     "name": "stdin",
     "output_type": "stream",
     "text": [
      "Enter a number: 4\n"
     ]
    },
    {
     "name": "stdout",
     "output_type": "stream",
     "text": [
      "factorial of 4 is 24\n"
     ]
    }
   ],
   "source": [
    "# 2nd way\n",
    "\n",
    "num = int(input(\"Enter a number:\"))\n",
    "fact = 1\n",
    "i = 1\n",
    "while i <= num:\n",
    "     fact = fact * i\n",
    "     i = i + 1\n",
    "print(\"factorial of\",num, \"is\" , fact)"
   ]
  },
  {
   "cell_type": "markdown",
   "id": "188287ca-74b7-4181-aef3-5c3d84709d8a",
   "metadata": {},
   "source": [
    "#### 33.Print all elements of list in reverse order without using reverse()"
   ]
  },
  {
   "cell_type": "code",
   "execution_count": 13,
   "id": "e6bb8e9d-ce5f-447f-a41b-0129659864c2",
   "metadata": {},
   "outputs": [
    {
     "name": "stdout",
     "output_type": "stream",
     "text": [
      "[30, 27, 24, 21, 18, 15, 12, 9, 6, 3]\n"
     ]
    }
   ],
   "source": [
    "l1 = [3,6,9,12,15,18,21,24,27,30]\n",
    "my_list = l1[::-1]\n",
    "print(my_list)"
   ]
  },
  {
   "cell_type": "markdown",
   "id": "fc5067a3-bb00-489a-8aa5-271a7fca2c9e",
   "metadata": {},
   "source": [
    "#### 35. Print a star pattern (triangle) using nested loops\n"
   ]
  },
  {
   "cell_type": "code",
   "execution_count": 16,
   "id": "1b377fcc-3f8f-476a-8f2b-808dbe546187",
   "metadata": {},
   "outputs": [
    {
     "name": "stdin",
     "output_type": "stream",
     "text": [
      "Enter the num: 5\n"
     ]
    },
    {
     "name": "stdout",
     "output_type": "stream",
     "text": [
      "* \n",
      "* * \n",
      "* * * \n",
      "* * * * \n",
      "* * * * * \n"
     ]
    }
   ],
   "source": [
    "row = int(input(\"Enter the num:\"))\n",
    "for i in range(row):\n",
    "    for j in range (i + 1):\n",
    "        print(\"*\" ,end = \" \")\n",
    "    print()    "
   ]
  },
  {
   "cell_type": "markdown",
   "id": "4b10a962-6465-4543-a1da-0ed53100cd4e",
   "metadata": {},
   "source": [
    "#### 34. Input a number and find the sum of its digits using while loop.\n"
   ]
  },
  {
   "cell_type": "code",
   "execution_count": 1,
   "id": "d1458502-c22a-4472-b749-290dc3064d70",
   "metadata": {},
   "outputs": [
    {
     "name": "stdin",
     "output_type": "stream",
     "text": [
      "Enter a number:  1234\n"
     ]
    },
    {
     "name": "stdout",
     "output_type": "stream",
     "text": [
      "Sum of digits: 10\n"
     ]
    }
   ],
   "source": [
    "num = int(input(\"Enter a number: \"))\n",
    "sum_digits = 0\n",
    "\n",
    "while num > 0:\n",
    "    digit = num % 10     \n",
    "    sum_digits += digit   \n",
    "    num = num // 10       \n",
    "\n",
    "print(\"Sum of digits:\", sum_digits)\n",
    "\n"
   ]
  },
  {
   "cell_type": "markdown",
   "id": "609bf870-961d-4747-b1b7-4c13c5a70559",
   "metadata": {},
   "source": [
    "#### 8. FILE HANDALING (5QUE)\n"
   ]
  },
  {
   "cell_type": "markdown",
   "id": "5302be7e-299e-4440-a5ad-402a37a6b5c2",
   "metadata": {},
   "source": [
    "#### 36. Write some text into a file and then read and print it.\n"
   ]
  },
  {
   "cell_type": "code",
   "execution_count": 3,
   "id": "6cda70c6-0ffe-4f21-8573-4aa30aba51ba",
   "metadata": {},
   "outputs": [
    {
     "data": {
      "text/plain": [
       "\"Ipython won't let you open fd={file} by default\""
      ]
     },
     "execution_count": 3,
     "metadata": {},
     "output_type": "execute_result"
    }
   ],
   "source": [
    "f =open( \"piyush.txt\",\"w\")\n",
    "f.write(\"Ipython won't let you open fd={file} by default\")\n",
    "f. close()\n",
    "\n",
    "f= open (\"piyush.txt\",\"r\")\n",
    "\n",
    "f.read()"
   ]
  },
  {
   "cell_type": "markdown",
   "id": "578f1047-1a61-48ae-b8e3-7acddbad4820",
   "metadata": {},
   "source": [
    "#### 37. Count the total number of lines in a file.\n"
   ]
  },
  {
   "cell_type": "code",
   "execution_count": 7,
   "id": "f2a6618e-dcce-4126-a7ee-38d9a20bec41",
   "metadata": {},
   "outputs": [
    {
     "name": "stdout",
     "output_type": "stream",
     "text": [
      "Lines: 0\n"
     ]
    }
   ],
   "source": [
    "file = open(\"piyush.txt\", \"r\")\n",
    "line = file.readline()\n",
    "print(\"Lines:\", len(file.readline()))"
   ]
  },
  {
   "cell_type": "markdown",
   "id": "f52cb9bc-2859-4a98-aaea-87dd74f6ef96",
   "metadata": {},
   "source": [
    "#### 38. Count vowels and consonants in a file.\n"
   ]
  },
  {
   "cell_type": "code",
   "execution_count": 9,
   "id": "e167528d-9f17-407d-b63d-81958b1ce0c4",
   "metadata": {},
   "outputs": [
    {
     "name": "stdout",
     "output_type": "stream",
     "text": [
      "Vowels: 13\n",
      "Consonants: 23\n"
     ]
    }
   ],
   "source": [
    "f = open(\"piyush.txt\", \"r\")\n",
    "text = f.read().lower()\n",
    "f.close()\n",
    "\n",
    "vowels = 0\n",
    "consonants = 0\n",
    "\n",
    "for ch in text:\n",
    "    if ch.isalpha():\n",
    "        if ch in \"aeiou\":\n",
    "            vowels += 1\n",
    "        else:\n",
    "            consonants += 1\n",
    "\n",
    "print(\"Vowels:\", vowels)\n",
    "print(\"Consonants:\", consonants)\n"
   ]
  },
  {
   "cell_type": "markdown",
   "id": "dd680030-132b-4052-95ca-779fca4c82b5",
   "metadata": {},
   "source": [
    "#### 39. Convert the content of a file into uppercase and store it in another file.\n"
   ]
  },
  {
   "cell_type": "code",
   "execution_count": 15,
   "id": "4f586497-2b51-4ebb-acea-2cc283d0a7db",
   "metadata": {},
   "outputs": [],
   "source": [
    "with open(\"piyush.txt\") as f:\n",
    "    data = f.read().upper()\n",
    "with open(\"upper.txt\", \"w\") as f:\n",
    "    f.write(data)\n",
    "    f.close()\n",
    "\n"
   ]
  },
  {
   "cell_type": "code",
   "execution_count": 16,
   "id": "91c5b0ac-226b-469f-829d-d8f34f3d37ae",
   "metadata": {},
   "outputs": [
    {
     "data": {
      "text/plain": [
       "\"IPYTHON WON'T LET YOU OPEN FD={FILE} BY DEFAULT\""
      ]
     },
     "execution_count": 16,
     "metadata": {},
     "output_type": "execute_result"
    }
   ],
   "source": [
    "f = open(\"upper.txt\", \"r\") \n",
    "f.read()\n"
   ]
  },
  {
   "cell_type": "markdown",
   "id": "2027ff7d-10dd-4205-b6b5-9325be49c5e2",
   "metadata": {},
   "source": [
    "#### 40. Read a CSV file and print its rows.\n"
   ]
  },
  {
   "cell_type": "code",
   "execution_count": 18,
   "id": "7391e7fc-b7d0-42af-9108-cc547919bc9c",
   "metadata": {},
   "outputs": [
    {
     "name": "stdout",
     "output_type": "stream",
     "text": [
      "[\"Ipython won't let you open fd={file} by default\"]\n"
     ]
    }
   ],
   "source": [
    "import csv \n",
    "with open(\"piyush.txt\",newline=\"\") as f:\n",
    "    reader = csv.reader(f)\n",
    "    for row in reader:\n",
    "        print(row)\n"
   ]
  },
  {
   "cell_type": "markdown",
   "id": "95e111cf-1909-4e17-ba4c-fd8d18ec783c",
   "metadata": {},
   "source": [
    "#### 9. OS MODULE (05 QUE)"
   ]
  },
  {
   "cell_type": "code",
   "execution_count": 3,
   "id": "cc0f0a8a-a988-46a2-8c1c-1257cb8742b8",
   "metadata": {},
   "outputs": [],
   "source": [
    "import os\n"
   ]
  },
  {
   "cell_type": "markdown",
   "id": "67ee361f-a398-4096-b09a-21d59eed4c34",
   "metadata": {},
   "source": [
    "#### 41. Print the current working directory using os module.\n"
   ]
  },
  {
   "cell_type": "code",
   "execution_count": 4,
   "id": "d3464ce7-5356-414c-a2f0-7f4e642223de",
   "metadata": {},
   "outputs": [
    {
     "name": "stdout",
     "output_type": "stream",
     "text": [
      "C:\\Users\\HP\n"
     ]
    }
   ],
   "source": [
    "cwd = os.getcwd()\n",
    "print(cwd)"
   ]
  },
  {
   "cell_type": "markdown",
   "id": "8e582b04-431d-49f2-a781-5234209a68f6",
   "metadata": {},
   "source": [
    "#### 42. Create a new floder using os module and create a file inside it "
   ]
  },
  {
   "cell_type": "code",
   "execution_count": 9,
   "id": "364903dc-8f8f-4be1-affa-79e5b0cd4707",
   "metadata": {},
   "outputs": [
    {
     "name": "stdout",
     "output_type": "stream",
     "text": [
      "Succesfully create the folder and file\n"
     ]
    }
   ],
   "source": [
    "\n",
    "os.mkdir(\"Myfloder5\")\n",
    "f = open(\"myfloder5/newfile.txt\",\"w\")\n",
    "f.write(\"my file is inside myfloder\")\n",
    "f.close()\n",
    "print(\"Succesfully create the folder and file\")\n"
   ]
  },
  {
   "cell_type": "markdown",
   "id": "57b293d6-9f6e-463a-86a4-bc644558c937",
   "metadata": {},
   "source": [
    "#### 43. List all files and folders inside a directory.\n"
   ]
  },
  {
   "cell_type": "code",
   "execution_count": 7,
   "id": "aaf5fd3d-4b41-4cd2-8585-4f1e95648cd6",
   "metadata": {},
   "outputs": [
    {
     "data": {
      "text/plain": [
       "['.anaconda',\n",
       " '.conda',\n",
       " '.condarc',\n",
       " '.continuum',\n",
       " '.ipynb_checkpoints',\n",
       " '.ipython',\n",
       " '.jupyter',\n",
       " '.matplotlib',\n",
       " '.vscode',\n",
       " '01. Python Basics.ipynb',\n",
       " '02. Build- in Function.ipynb',\n",
       " '07. Dictionary and operations .ipynb',\n",
       " '08. Conditions-1.ipynb',\n",
       " '09. Conditions-2.ipynb',\n",
       " '10. Loops-1.ipynb',\n",
       " '11. Loop-2.ipynb',\n",
       " '12. Loop-3.ipynb',\n",
       " '13. File_handling.ipynb',\n",
       " 'anaconda3',\n",
       " 'anaconda_projects',\n",
       " 'ANS.ipynb',\n",
       " 'AppData',\n",
       " 'Application Data',\n",
       " 'Contacts',\n",
       " 'Cookies',\n",
       " 'Desktop',\n",
       " 'Documents',\n",
       " 'Downloads',\n",
       " 'Favorites',\n",
       " 'Links',\n",
       " 'Local Settings',\n",
       " 'Music',\n",
       " 'My Documents',\n",
       " 'Myfloder',\n",
       " 'Myfloder1',\n",
       " 'Myfloder2',\n",
       " 'NetHood',\n",
       " 'NTUSER.DAT',\n",
       " 'ntuser.dat.LOG1',\n",
       " 'ntuser.dat.LOG2',\n",
       " 'NTUSER.DAT{01b1324d-b150-11ef-adb3-282e8968a495}.TM.blf',\n",
       " 'NTUSER.DAT{01b1324d-b150-11ef-adb3-282e8968a495}.TMContainer00000000000000000001.regtrans-ms',\n",
       " 'NTUSER.DAT{01b1324d-b150-11ef-adb3-282e8968a495}.TMContainer00000000000000000002.regtrans-ms',\n",
       " 'ntuser.ini',\n",
       " 'OneDrive',\n",
       " 'output.txt',\n",
       " 'Pictures',\n",
       " 'piyush.txt',\n",
       " 'PRACTICE MODE .ipynb',\n",
       " 'PrintHood',\n",
       " 'Python',\n",
       " 'QUE & ANS.ipynb',\n",
       " 'Recent',\n",
       " 'Saved Games',\n",
       " 'Searches',\n",
       " 'SendTo',\n",
       " 'Start Menu',\n",
       " 'Templates',\n",
       " 'Test - 02.ipynb',\n",
       " 'Untitled1.ipynb',\n",
       " 'upper.txt',\n",
       " 'Videos']"
      ]
     },
     "execution_count": 7,
     "metadata": {},
     "output_type": "execute_result"
    }
   ],
   "source": [
    "os.listdir()"
   ]
  },
  {
   "cell_type": "markdown",
   "id": "95025966-0883-4e06-a0d6-937a98da95fd",
   "metadata": {},
   "source": [
    "#### 44. Check the size of a file using os module.\n"
   ]
  },
  {
   "cell_type": "code",
   "execution_count": 10,
   "id": "ad2b2ba5-2aec-4f69-9163-3588f7512bf5",
   "metadata": {},
   "outputs": [
    {
     "name": "stdout",
     "output_type": "stream",
     "text": [
      "File size of piyush.txt is: 47 bytes\n"
     ]
    }
   ],
   "source": [
    "filename = \"piyush.txt\"\n",
    "size = os.path.getsize(filename)\n",
    "print(f\"File size of {filename} is: {size} bytes\")"
   ]
  },
  {
   "cell_type": "markdown",
   "id": "7f8b3b67-bbeb-4194-9563-46c73d549202",
   "metadata": {},
   "source": [
    "#### 45. Count all .txt files in a directory\n"
   ]
  },
  {
   "cell_type": "code",
   "execution_count": 11,
   "id": "ee3028fd-5586-4c2c-a87b-c0566ece1668",
   "metadata": {},
   "outputs": [
    {
     "name": "stdout",
     "output_type": "stream",
     "text": [
      "{'.txt files:', 3}\n"
     ]
    }
   ],
   "source": [
    "files = os.listdir()\n",
    "count = 0\n",
    "\n",
    "for f in files:\n",
    "    if f.endswith(\".txt\"):\n",
    "        count += 1\n",
    "result = {\".txt files:\",count}\n",
    "print(result)"
   ]
  },
  {
   "cell_type": "markdown",
   "id": "18b734ec-30a9-4bec-b13f-ea0237e5155c",
   "metadata": {},
   "source": [
    "#### 1o.TRY - EXCEPTION (05 QUE)\n"
   ]
  },
  {
   "cell_type": "markdown",
   "id": "7a937fd4-2738-4ed9-bb50-1d14573b69ad",
   "metadata": {},
   "source": [
    "#### 46. Write a program that takes user input and prints its square. Handle errors if input is invalid.\n"
   ]
  },
  {
   "cell_type": "code",
   "execution_count": 12,
   "id": "ca6328f1-eba2-41d7-befe-d91c4f757130",
   "metadata": {},
   "outputs": [
    {
     "name": "stdin",
     "output_type": "stream",
     "text": [
      "Enter a number:  10\n"
     ]
    },
    {
     "name": "stdout",
     "output_type": "stream",
     "text": [
      "Square is: 100\n"
     ]
    }
   ],
   "source": [
    "try:\n",
    "    num = int(input(\"Enter a number: \"))\n",
    "    print(\"Square is:\", num**2)\n",
    "except ValueError:\n",
    "    print(\"Invalid input! Please enter a number.\")"
   ]
  },
  {
   "cell_type": "markdown",
   "id": "2ba1850b-4163-4b64-b369-8240fb185dde",
   "metadata": {},
   "source": [
    "#### 47. Handle ZeroDivisionError with an example program.\n"
   ]
  },
  {
   "cell_type": "code",
   "execution_count": 13,
   "id": "bb401b4a-b9ac-4e45-9bce-1f1f6b72c734",
   "metadata": {},
   "outputs": [
    {
     "name": "stdin",
     "output_type": "stream",
     "text": [
      "Enter numerator: 0\n",
      "Enter denominator: 0\n"
     ]
    },
    {
     "name": "stdout",
     "output_type": "stream",
     "text": [
      "Error! Cannot divide by zero\n"
     ]
    }
   ],
   "source": [
    "try:\n",
    "    a = int(input(\"Enter numerator:\"))\n",
    "    b = int(input(\"Enter denominator:\"))\n",
    "    result = int(a / b)\n",
    "    print(\"result:\",result)\n",
    "except ZeroDivisionError:\n",
    "    print(\"Error! Cannot divide by zero\")"
   ]
  },
  {
   "cell_type": "markdown",
   "id": "4686d930-370d-48ac-901e-5b7c40c2b338",
   "metadata": {},
   "source": [
    "#### 48. Handle FileNotFoundError with an example program.\n"
   ]
  },
  {
   "cell_type": "code",
   "execution_count": 16,
   "id": "3f989a30-6531-4ab0-81d4-99b68b2ab386",
   "metadata": {},
   "outputs": [
    {
     "name": "stdout",
     "output_type": "stream",
     "text": [
      "File not found?\n"
     ]
    }
   ],
   "source": [
    "try:\n",
    "    f = open(\"date.txt\",\"r\")\n",
    "    print(f.read())\n",
    "    f.close()\n",
    "except FileNotFoundError:\n",
    "    print(\"File not found?\")"
   ]
  },
  {
   "cell_type": "markdown",
   "id": "fcecaf46-dbfb-4e5f-81c8-4a17d087c979",
   "metadata": {},
   "source": [
    "#### 49. Handle both ValueError and TypeError with an example.\n"
   ]
  },
  {
   "cell_type": "code",
   "execution_count": 20,
   "id": "8bb50f44-9103-4d85-98e6-2f5c062f31bf",
   "metadata": {},
   "outputs": [
    {
     "name": "stdin",
     "output_type": "stream",
     "text": [
      "Enter a number:   6.7\n"
     ]
    },
    {
     "name": "stdout",
     "output_type": "stream",
     "text": [
      "ValueError: Please enter number only!\n"
     ]
    }
   ],
   "source": [
    "try:\n",
    "    num = int(input(\"Enter a number:  \"))\n",
    "    result = num + \"10\"\n",
    "    print(result)\n",
    "except ValueError:\n",
    "    print(\"ValueError: Please enter number only!\")\n",
    "except TypeError:\n",
    "    print(\"TypeError:cannot add number and string together!\")\n"
   ]
  },
  {
   "cell_type": "markdown",
   "id": "eb5faec4-d452-42a3-8c71-7e3e6222c150",
   "metadata": {},
   "source": [
    "#### 50. Write a program with finally block that opens and closes a file\n"
   ]
  },
  {
   "cell_type": "code",
   "execution_count": 21,
   "id": "b802388d-b3d2-4b44-9aed-c593d4f3d46c",
   "metadata": {},
   "outputs": [
    {
     "name": "stdout",
     "output_type": "stream",
     "text": [
      "File written successfully.\n",
      "File closed successfully.\n"
     ]
    }
   ],
   "source": [
    "try:\n",
    "    file = open(\"piyush.txt\",\"w\")\n",
    "    file.write(\"Hii ,Python!\")\n",
    "    print(\"File written successfully.\")\n",
    "except Exception as e:\n",
    "    print(\"An error occurred:\",e)\n",
    "\n",
    "finally:\n",
    "    file.close()\n",
    "    print(\"File closed successfully.\")\n",
    "    "
   ]
  },
  {
   "cell_type": "code",
   "execution_count": null,
   "id": "badad2e2-8790-4e3f-8795-5939778b1ed3",
   "metadata": {},
   "outputs": [],
   "source": []
  }
 ],
 "metadata": {
  "kernelspec": {
   "display_name": "Python [conda env:base] *",
   "language": "python",
   "name": "conda-base-py"
  },
  "language_info": {
   "codemirror_mode": {
    "name": "ipython",
    "version": 3
   },
   "file_extension": ".py",
   "mimetype": "text/x-python",
   "name": "python",
   "nbconvert_exporter": "python",
   "pygments_lexer": "ipython3",
   "version": "3.13.5"
  },
  "widgets": {
   "application/vnd.jupyter.widget-state+json": {
    "state": {},
    "version_major": 2,
    "version_minor": 0
   }
  }
 },
 "nbformat": 4,
 "nbformat_minor": 5
}
